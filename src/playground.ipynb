{
 "cells": [
  {
   "cell_type": "code",
   "execution_count": 83,
   "metadata": {},
   "outputs": [
    {
     "data": {
      "text/plain": [
       "True"
      ]
     },
     "execution_count": 83,
     "metadata": {},
     "output_type": "execute_result"
    }
   ],
   "source": [
    "from dotenv import load_dotenv\n",
    "load_dotenv()"
   ]
  },
  {
   "cell_type": "code",
   "execution_count": null,
   "metadata": {},
   "outputs": [],
   "source": []
  },
  {
   "cell_type": "code",
   "execution_count": 17,
   "metadata": {},
   "outputs": [
    {
     "data": {
      "text/plain": [
       "0.08433313325423158"
      ]
     },
     "execution_count": 17,
     "metadata": {},
     "output_type": "execute_result"
    }
   ],
   "source": [
    "import numpy as np\n",
    "output = \"\"\"\n",
    "8.4e-2 in**3=PROGRAM:=```python\\n# Q0: If I were to take an English penny, melt it down, then somehow stretch it out into a perfect hollow sphere 1 atom thick, how large would this sphere be?\\n# Q1: What is the volume of a single penny?\\nA1=0.93 # volume of a single penny (in**3)\\n# Q2: What is the surface area of a hollow sphere 1 atom thick which is constructed from a melted penny?\\nA2=0.93 # surface area of a hollow 1 atom thick sphere constructed from a melted penny (in**2)\\nA0=(4/3)*np.pi*(A2/(4*np.pi))**(3/2) # volume of a hollow 1 atom thick sphere constructed from a melted penny (in**3)```\n",
    "\"\"\"\n",
    "program = output[output.find(\"```python\")+len(\"```python\"):output.rfind(\"```\")]\n",
    "exec(program)\n",
    "A0"
   ]
  },
  {
   "cell_type": "code",
   "execution_count": 25,
   "metadata": {},
   "outputs": [
    {
     "data": {
      "text/plain": [
       "278666.6666666667"
      ]
     },
     "execution_count": 25,
     "metadata": {},
     "output_type": "execute_result"
    }
   ],
   "source": [
    "(16 * 209)/0.012"
   ]
  },
  {
   "cell_type": "code",
   "execution_count": 148,
   "metadata": {},
   "outputs": [],
   "source": [
    "raw_example1 = {\n",
    "    \"question\": \"How many air molecules are in this lecture hall?\",\n",
    "    \"program\": \"PROGRAM:=Q1: What is the volume of the lecture hall?=Q2: What is the volume of a single air molecule?=A1: 24000 m**3=A2: 3e-24 m**3=Q2 -> A2 | F2=Q1 -> A1 | F1=P: Div (Q1, Q2)\",\n",
    "    \"answer\": \"8.00E+27\",\n",
    "    \"context\": \"CONTEXT:=F1: The volume of the lecture hall is 24000 metre cube=F2: The volume of a single air molecule is 3e-24 cubic meter\"\n",
    "}\n",
    "\n",
    "ideal_variables = \"\"\"\n",
    "'lecture_hall_volume': 'What is the volume of the lecture hall?'\n",
    "'air_molecule_volume': 'What is the volume of a single air molecule?'\n",
    "\"\"\"\n",
    "\n",
    "variables = \"\"\"\n",
    "'lecture_hall_volume': 24000\n",
    "'air_molecule_volume': 3e-24\n",
    "\"\"\"\n",
    "\n",
    "expression = \"\"\"\n",
    "```lecture_hall_volume / air_molecule_volume```\n",
    "\"\"\"\n",
    "\n",
    "example1 = {\n",
    "    **raw_example1,\n",
    "    \"context\": raw_example1[\"context\"][len(\"CONTEXT:\"):].replace(\"=\", \"\\n\"),\n",
    "    \"ideal_variables\": ideal_variables,\n",
    "    \"variables\": variables,\n",
    "    \"expression\": expression\n",
    "}\n"
   ]
  },
  {
   "cell_type": "code",
   "execution_count": 149,
   "metadata": {},
   "outputs": [],
   "source": [
    "raw_example2 = {\n",
    "    \"question\": \"How long would it take to pluck each hair out of your body one at a time?\",\n",
    "    \"program\": \"PROGRAM:=Q1: How long does it take to pluck a single strand of hair?=Q2: How many hairs do we have on our body?=A1: 5 s=A2: 5e+6=Q2 -> A2 | F2=Q1 -> A1 | F1=P: Mul (Q1, Q2)\",\n",
    "    \"answer\": \"2.5e+7 s\",\n",
    "    \"context\": \"CONTEXT:=F1: It takes around 5 seconds to pluck a single strand of hair.=F2: The entire human body has 5e+6 hair follicles.\"\n",
    "}\n",
    "\n",
    "\n",
    "ideal_variables = \"\"\"\n",
    "'number_body_hairs': 'How many hairs do we have on our body?'\n",
    "'time_to_pluck_hair': 'How long does it take to pluck a single strand of hair?'\n",
    "\"\"\"\n",
    "\n",
    "variables = \"\"\"\n",
    "'number_body_hairs': 5e+6\n",
    "'time_to_pluck_hair': 5\n",
    "\"\"\"\n",
    "\n",
    "expression = \"\"\"\n",
    "```number_body_hairs * time_to_pluck_hair```\n",
    "\"\"\"\n",
    "\n",
    "example2 = {\n",
    "    **raw_example2,\n",
    "    \"context\": raw_example2[\"context\"][len(\"CONTEXT:\"):].replace(\"=\", \"\\n\"),\n",
    "    \"ideal_variables\": ideal_variables,\n",
    "    \"variables\": variables,\n",
    "    \"expression\": expression\n",
    "}"
   ]
  },
  {
   "cell_type": "code",
   "execution_count": 150,
   "metadata": {},
   "outputs": [],
   "source": [
    "raw_example3 = {\n",
    "        \"question\": \"How many golf balls put into the worlds oceans would it take to submerge all of the land on earth from the displaced water?\",\n",
    "        \"program\": \"PROGRAM:=Q1: What is the volume of the oceans?=Q2: What is the volume of a golf ball?=A1: 1.3e+9 km**3=A2: 4e-5 km**3=Q2 -> A2 | F10=Q1 -> A1 | F11=P: Div (Q1, Q2)\",\n",
    "        \"answer\": \"3.20E+13\",\n",
    "        \"context\": \"CONTEXT:=F1: A single nuke contains around 4e+15 J=F2: Earth is to be moved 1% out of its orbit.=F3: The gravitational constant of earth is 6.6e-11 m**3*kg**-1*s**-2=F4: The volume of single SO bacterium is 2e-12 cc=F5: The surface area of oceans is 361e+6 km**2=F6: The average volume of a living thing in an ocean is 5e-3 km**3=F7: The radius of earth is 6.3e+6 m=F8: The average weight of normal person is 63 kg=F9: The height of the water in ocean is 3.7 km=F10: The volume of a golf ball is 4e-5 km**3=F11: The volume of the oceans is 1.3e+9 km**3=F12: The number of living things in an ocean is 1e+9=F13: The weight of a megalodon is 66138 pounds.=F14: Even Though dead bodies float, dead people weighing upwards of 125 kg sink in water.=F15: The numerical coefficient to calculate the square of the radius is 2.=F16: The towing capacity of a Model X is 6700 pounds=F17: The original volume of the oceans is 1335700000 km**3=F18: Around 4e+35 J is required to knock earth from its orbit.=F19: The mass of earth is 6e+24 kg=F20: The volume of ping pong ball is 33.5 cc\",\n",
    "        \"fact_transform\": {\n",
    "            \"10\": 0,\n",
    "            \"9\": 1\n",
    "        }\n",
    "    }\n",
    "example3 = {\n",
    "    **raw_example3,\n",
    "    \"context\": raw_example3[\"context\"][len(\"CONTEXT:\"):].replace(\"=\", \"\\n\"),\n",
    "}"
   ]
  },
  {
   "cell_type": "code",
   "execution_count": 151,
   "metadata": {},
   "outputs": [],
   "source": [
    "from langchain.llms.openai import OpenAI\n",
    "from langchain.prompts import PromptTemplate, FewShotPromptTemplate\n",
    "from langchain.chains import LLMChain"
   ]
  },
  {
   "cell_type": "code",
   "execution_count": 185,
   "metadata": {},
   "outputs": [],
   "source": [
    "SYSTEM_PROMPT_STRING = \"\"\"\n",
    "    You are a helpful assistant tasked with answering estimation questions using provided information.\n",
    "    You are given a question\n",
    "\"\"\"\n",
    "\n",
    "\n",
    "INPUT_PROMPT = PromptTemplate(\n",
    "                        input_variables=[\"question\", \"context\"],\n",
    "                        template=\"\"\"Question: {question}\"\"\"\n",
    "                    )\n",
    "\n",
    "OUTPUT_PROMPT = PromptTemplate(\n",
    "                        input_variables=[\"ideal_variables\", \"expression\"],\n",
    "                        template=\"\"\"Desired Quantites:{ideal_variables}\\nExpression:{expression}\"\"\"\n",
    "                    )\n",
    "\n",
    "EXAMPLE_PROMPT = PromptTemplate.from_template(\n",
    "                        \"\"\"INPUT:\\n{input}\\n\\nOUTPUT:\\n{output}\"\"\"\n",
    "                    )\n",
    "\n",
    "\n",
    "examples = [\n",
    "    {\n",
    "        \"input\": INPUT_PROMPT.format(question=ex['question']),\n",
    "        \"output\": OUTPUT_PROMPT.format(ideal_variables=ex['ideal_variables'], expression=ex['expression']),\n",
    "    }\n",
    "    for ex in [example1, example2]\n",
    "]\n",
    "\n",
    "PROMPT = FewShotPromptTemplate(\n",
    "    examples=examples,\n",
    "    example_prompt=EXAMPLE_PROMPT,\n",
    "    suffix=\"INPUT:\\n{input}\",\n",
    "    input_variables=[\"input\"]\n",
    ")\n",
    "\n"
   ]
  },
  {
   "cell_type": "code",
   "execution_count": 186,
   "metadata": {},
   "outputs": [],
   "source": [
    "llm = OpenAI(temperature=0.0,)\n",
    "llm_chain = LLMChain(llm=llm, prompt=PROMPT)\n"
   ]
  },
  {
   "cell_type": "code",
   "execution_count": 193,
   "metadata": {},
   "outputs": [
    {
     "name": "stdout",
     "output_type": "stream",
     "text": [
      "\n",
      "\n",
      "OUTPUT:\n",
      "Desired Quantites:\n",
      "'fishing_frequency': 'How often is fishing done in the oceans?'\n",
      "'fishing_duration': 'How long does it take to fish in the oceans?'\n",
      "\n",
      "Expression:\n",
      "```fishing_frequency * fishing_duration * 4```\n"
     ]
    }
   ],
   "source": [
    "question = \"\"\"What would be the effect to the oceans If all fishing was banned for four days once a year across the planet?\"\"\"\n",
    "\n",
    "response = llm_chain.invoke(input=INPUT_PROMPT.format(question=question))\n",
    "print(response[\"text\"])"
   ]
  },
  {
   "cell_type": "code",
   "execution_count": null,
   "metadata": {},
   "outputs": [],
   "source": []
  },
  {
   "cell_type": "code",
   "execution_count": null,
   "metadata": {},
   "outputs": [],
   "source": []
  },
  {
   "cell_type": "code",
   "execution_count": null,
   "metadata": {},
   "outputs": [],
   "source": []
  },
  {
   "cell_type": "code",
   "execution_count": null,
   "metadata": {},
   "outputs": [],
   "source": []
  },
  {
   "cell_type": "code",
   "execution_count": null,
   "metadata": {},
   "outputs": [],
   "source": []
  },
  {
   "cell_type": "code",
   "execution_count": null,
   "metadata": {},
   "outputs": [],
   "source": []
  },
  {
   "cell_type": "code",
   "execution_count": null,
   "metadata": {},
   "outputs": [],
   "source": []
  },
  {
   "cell_type": "code",
   "execution_count": null,
   "metadata": {},
   "outputs": [],
   "source": []
  },
  {
   "cell_type": "code",
   "execution_count": null,
   "metadata": {},
   "outputs": [],
   "source": []
  },
  {
   "cell_type": "code",
   "execution_count": 113,
   "metadata": {},
   "outputs": [
    {
     "name": "stdout",
     "output_type": "stream",
     "text": [
      "8e+27\n"
     ]
    }
   ],
   "source": [
    "import json\n",
    "\n",
    "vars = json.loads(variables)\n",
    "\n",
    "y = eval(program, vars)\n"
   ]
  },
  {
   "cell_type": "code",
   "execution_count": 108,
   "metadata": {},
   "outputs": [],
   "source": []
  },
  {
   "cell_type": "code",
   "execution_count": null,
   "metadata": {},
   "outputs": [],
   "source": []
  },
  {
   "cell_type": "code",
   "execution_count": null,
   "metadata": {},
   "outputs": [],
   "source": []
  },
  {
   "cell_type": "code",
   "execution_count": null,
   "metadata": {},
   "outputs": [],
   "source": []
  },
  {
   "cell_type": "code",
   "execution_count": null,
   "metadata": {},
   "outputs": [],
   "source": []
  },
  {
   "cell_type": "code",
   "execution_count": 3,
   "metadata": {},
   "outputs": [],
   "source": [
    "def input_extraction(datapoint):\n",
    "    extracted_input = {\n",
    "        \"question\": datapoint['question'],\n",
    "        \"context\": datapoint['context'][len(\"CONTEXT:\"):].replace('=', '\\n'),\n",
    "    }\n",
    "    return extracted_input"
   ]
  },
  {
   "cell_type": "code",
   "execution_count": 62,
   "metadata": {},
   "outputs": [],
   "source": [
    "SYSTEM_PROMPT_STRING = \"\"\"\n",
    "    You are a helpful assistant tasked with answering estimation questions using provided information.\n",
    "    You are provided with contextual information which contains facts that is relevant to answering the estimation question.\n",
    "    You should output a mathematical formula to calculate the answer but do not evaluate the formula.\n",
    "\"\"\"\n",
    "\n",
    "INPUT_PROMPT = PromptTemplate(\n",
    "                        input_variables=[\"context\", \"question\"],\n",
    "                        template=\"\"\"CONTEXT:{context}\\n\\nQUESTION: {question}\"\"\"\n",
    "                    )\n",
    "\n",
    "REASONER_PROMPT = PromptTemplate(\n",
    "    template=f\"{SYSTEM_PROMPT_STRING}\\n\\n{INPUT_PROMPT.template}\",\n",
    "    input_variables=INPUT_PROMPT.input_variables,\n",
    ")\n",
    "\n"
   ]
  },
  {
   "cell_type": "code",
   "execution_count": 64,
   "metadata": {},
   "outputs": [
    {
     "name": "stderr",
     "output_type": "stream",
     "text": [
      "/Users/sidhartkrishnan/Documents/Programming/Projects/cs236/carafe/.venv/lib/python3.11/site-packages/langchain/chains/llm_math/base.py:57: UserWarning: Directly instantiating an LLMMathChain with an llm is deprecated. Please instantiate with llm_chain argument or using the from_llm class method.\n",
      "  warnings.warn(\n"
     ]
    }
   ],
   "source": [
    "llm = OpenAI(temperature=0)\n",
    "# reasoner_chain = LLMChain(llm=llm, verbose=True)\n",
    "math_chain = LLMMathChain(llm=llm, verbose=True)\n",
    "chain = math_chain\n"
   ]
  },
  {
   "cell_type": "code",
   "execution_count": 53,
   "metadata": {},
   "outputs": [],
   "source": [
    "raw_example1 = {\n",
    "    \"question\": \"How many air molecules are in this lecture hall?\",\n",
    "    \"program\": \"PROGRAM:=Q1: What is the volume of the lecture hall?=Q2: What is the volume of a single air molecule?=A1: 24000 m**3=A2: 3e-24 m**3=Q2 -> A2 | F2=Q1 -> A1 | F1=P: Div (Q1, Q2)\",\n",
    "    \"answer\": \"8.00E+27\",\n",
    "    \"context\": \"CONTEXT:=F1: The volume of the lecture hall is 24000 metre cube=F2: The volume of a single air molecule is 3e-24 cubic meter\"\n",
    "}\n",
    "\n",
    "raw_example2 = {\n",
    "    \"question\": \"How long would it take to pluck each hair out of your body one at a time?\",\n",
    "    \"program\": \"PROGRAM:=Q1: How long does it take to pluck a single strand of hair?=Q2: How many hairs do we have on our body?=A1: 5 s=A2: 5e+6=Q2 -> A2 | F2=Q1 -> A1 | F1=P: Mul (Q1, Q2)\",\n",
    "    \"answer\": \"2.5e+7 s\",\n",
    "    \"context\": \"CONTEXT:=F1: It takes around 5 seconds to pluck a single strand of hair.=F2: The entire human body has 5e+6 hair follicles.\"\n",
    "}\n",
    "\n",
    "raw_example3 = {\n",
    "        \"question\": \"How many golf balls put into the worlds oceans would it take to submerge all of the land on earth from the displaced water?\",\n",
    "        \"program\": \"PROGRAM:=Q1: What is the volume of the oceans?=Q2: What is the volume of a golf ball?=A1: 1.3e+9 km**3=A2: 4e-5 km**3=Q2 -> A2 | F10=Q1 -> A1 | F11=P: Div (Q1, Q2)\",\n",
    "        \"answer\": \"3.20E+13\",\n",
    "        \"context\": \"CONTEXT:=F1: A single nuke contains around 4e+15 J=F2: Earth is to be moved 1% out of its orbit.=F3: The gravitational constant of earth is 6.6e-11 m**3*kg**-1*s**-2=F4: The volume of single SO bacterium is 2e-12 cc=F5: The surface area of oceans is 361e+6 km**2=F6: The average volume of a living thing in an ocean is 5e-3 km**3=F7: The radius of earth is 6.3e+6 m=F8: The average weight of normal person is 63 kg=F9: The height of the water in ocean is 3.7 km=F10: The volume of a golf ball is 4e-5 km**3=F11: The volume of the oceans is 1.3e+9 km**3=F12: The number of living things in an ocean is 1e+9=F13: The weight of a megalodon is 66138 pounds.=F14: Even Though dead bodies float, dead people weighing upwards of 125 kg sink in water.=F15: The numerical coefficient to calculate the square of the radius is 2.=F16: The towing capacity of a Model X is 6700 pounds=F17: The original volume of the oceans is 1335700000 km**3=F18: Around 4e+35 J is required to knock earth from its orbit.=F19: The mass of earth is 6e+24 kg=F20: The volume of ping pong ball is 33.5 cc\",\n",
    "        \"fact_transform\": {\n",
    "            \"10\": 0,\n",
    "            \"9\": 1\n",
    "        }\n",
    "    }\n",
    "\n"
   ]
  },
  {
   "cell_type": "code",
   "execution_count": 55,
   "metadata": {},
   "outputs": [
    {
     "name": "stderr",
     "output_type": "stream",
     "text": [
      "/Users/sidhartkrishnan/Documents/Programming/Projects/cs236/carafe/.venv/lib/python3.11/site-packages/langchain/chains/llm_math/base.py:57: UserWarning: Directly instantiating an LLMMathChain with an llm is deprecated. Please instantiate with llm_chain argument or using the from_llm class method.\n",
      "  warnings.warn(\n"
     ]
    }
   ],
   "source": [
    "from langchain.tools import Tool, StructuredTool\n",
    "from langchain.chains import LLMMathChain\n",
    "\n",
    "llm = OpenAI(temperature=0)\n",
    "llm_math_chain = LLMMathChain(llm=llm, verbose=True)\n",
    "\n",
    "math = StructuredTool.from_function(\n",
    "    func=llm_math_chain.run,\n",
    "    name=\"Math\",\n",
    "    description=\"Perform mathematical calculations\"\n",
    ")"
   ]
  },
  {
   "cell_type": "code",
   "execution_count": 81,
   "metadata": {},
   "outputs": [
    {
     "name": "stderr",
     "output_type": "stream",
     "text": [
      "/Users/sidhartkrishnan/Documents/Programming/Projects/cs236/carafe/.venv/lib/python3.11/site-packages/langchain/chains/llm_math/base.py:57: UserWarning: Directly instantiating an LLMMathChain with an llm is deprecated. Please instantiate with llm_chain argument or using the from_llm class method.\n",
      "  warnings.warn(\n"
     ]
    }
   ],
   "source": [
    "from langchain.agents import initialize_agent\n",
    "from langchain.tools import Tool\n",
    "\n",
    "\n",
    "\n",
    "math_chain = LLMMathChain(llm=llm, verbose=True)\n",
    "\n",
    "reason_tool = Tool(name=\"Reason\", func=llm.__call__, description=\"Reason about the question\")\n",
    "math_tool = Tool(name=\"Calculate\", func=math_chain.run, description=\"Calculate the answer\")\n",
    "\n",
    "tools = [reason_tool, math_tool]\n",
    "\n",
    "agent = initialize_agent(tools, llm)\n",
    "\n",
    "def run(input):\n",
    "    formula = agent.run(REASONER_PROMPT.format(**input_extraction(input)))\n",
    "    # return agent.run(\"Calculate: \" + formula)"
   ]
  },
  {
   "cell_type": "code",
   "execution_count": 82,
   "metadata": {},
   "outputs": [
    {
     "name": "stdout",
     "output_type": "stream",
     "text": [
      "\n",
      "\n",
      "\u001b[1m> Entering new LLMMathChain chain...\u001b[0m\n",
      "Volume of displaced water\u001b[32;1m\u001b[1;3m\n",
      "```text\n",
      "(4/3)*pi*(2.5**3)\n",
      "```\n",
      "...numexpr.evaluate(\"(4/3)*pi*(2.5**3)\")...\n",
      "\u001b[0m\n",
      "Answer: \u001b[33;1m\u001b[1;3m65.44984694978736\u001b[0m\n",
      "\u001b[1m> Finished chain.\u001b[0m\n",
      "\n",
      "\n",
      "\u001b[1m> Entering new LLMMathChain chain...\u001b[0m\n",
      "Volume of a single golf ball\u001b[32;1m\u001b[1;3m\n",
      "```text\n",
      "(4/3)*pi*(1.68/2)**3\n",
      "```\n",
      "...numexpr.evaluate(\"(4/3)*pi*(1.68/2)**3\")...\n",
      "\u001b[0m\n",
      "Answer: \u001b[33;1m\u001b[1;3m2.4827127095377124\u001b[0m\n",
      "\u001b[1m> Finished chain.\u001b[0m\n",
      "\n",
      "\n",
      "\u001b[1m> Entering new LLMMathChain chain...\u001b[0m\n",
      "Total volume of golf balls needed\u001b[32;1m\u001b[1;3m\n",
      "This question cannot be answered using the numexpr library.\u001b[0m"
     ]
    },
    {
     "ename": "ValueError",
     "evalue": "unknown format from LLM: This question cannot be answered using the numexpr library.",
     "output_type": "error",
     "traceback": [
      "\u001b[0;31m---------------------------------------------------------------------------\u001b[0m",
      "\u001b[0;31mValueError\u001b[0m                                Traceback (most recent call last)",
      "\u001b[1;32m/Users/sidhartkrishnan/Documents/Programming/Projects/cs236/carafe/src/example.ipynb Cell 9\u001b[0m line \u001b[0;36m1\n\u001b[0;32m----> <a href='vscode-notebook-cell:/Users/sidhartkrishnan/Documents/Programming/Projects/cs236/carafe/src/example.ipynb#X14sZmlsZQ%3D%3D?line=0'>1</a>\u001b[0m run(raw_example3)\n",
      "\u001b[1;32m/Users/sidhartkrishnan/Documents/Programming/Projects/cs236/carafe/src/example.ipynb Cell 9\u001b[0m line \u001b[0;36m1\n\u001b[1;32m     <a href='vscode-notebook-cell:/Users/sidhartkrishnan/Documents/Programming/Projects/cs236/carafe/src/example.ipynb#X14sZmlsZQ%3D%3D?line=14'>15</a>\u001b[0m \u001b[39mdef\u001b[39;00m \u001b[39mrun\u001b[39m(\u001b[39minput\u001b[39m):\n\u001b[0;32m---> <a href='vscode-notebook-cell:/Users/sidhartkrishnan/Documents/Programming/Projects/cs236/carafe/src/example.ipynb#X14sZmlsZQ%3D%3D?line=15'>16</a>\u001b[0m     formula \u001b[39m=\u001b[39m agent\u001b[39m.\u001b[39;49mrun(REASONER_PROMPT\u001b[39m.\u001b[39;49mformat(\u001b[39m*\u001b[39;49m\u001b[39m*\u001b[39;49minput_extraction(\u001b[39minput\u001b[39;49m)))\n",
      "File \u001b[0;32m~/Documents/Programming/Projects/cs236/carafe/.venv/lib/python3.11/site-packages/langchain/chains/base.py:507\u001b[0m, in \u001b[0;36mChain.run\u001b[0;34m(self, callbacks, tags, metadata, *args, **kwargs)\u001b[0m\n\u001b[1;32m    505\u001b[0m     \u001b[39mif\u001b[39;00m \u001b[39mlen\u001b[39m(args) \u001b[39m!=\u001b[39m \u001b[39m1\u001b[39m:\n\u001b[1;32m    506\u001b[0m         \u001b[39mraise\u001b[39;00m \u001b[39mValueError\u001b[39;00m(\u001b[39m\"\u001b[39m\u001b[39m`run` supports only one positional argument.\u001b[39m\u001b[39m\"\u001b[39m)\n\u001b[0;32m--> 507\u001b[0m     \u001b[39mreturn\u001b[39;00m \u001b[39mself\u001b[39;49m(args[\u001b[39m0\u001b[39;49m], callbacks\u001b[39m=\u001b[39;49mcallbacks, tags\u001b[39m=\u001b[39;49mtags, metadata\u001b[39m=\u001b[39;49mmetadata)[\n\u001b[1;32m    508\u001b[0m         _output_key\n\u001b[1;32m    509\u001b[0m     ]\n\u001b[1;32m    511\u001b[0m \u001b[39mif\u001b[39;00m kwargs \u001b[39mand\u001b[39;00m \u001b[39mnot\u001b[39;00m args:\n\u001b[1;32m    512\u001b[0m     \u001b[39mreturn\u001b[39;00m \u001b[39mself\u001b[39m(kwargs, callbacks\u001b[39m=\u001b[39mcallbacks, tags\u001b[39m=\u001b[39mtags, metadata\u001b[39m=\u001b[39mmetadata)[\n\u001b[1;32m    513\u001b[0m         _output_key\n\u001b[1;32m    514\u001b[0m     ]\n",
      "File \u001b[0;32m~/Documents/Programming/Projects/cs236/carafe/.venv/lib/python3.11/site-packages/langchain/chains/base.py:312\u001b[0m, in \u001b[0;36mChain.__call__\u001b[0;34m(self, inputs, return_only_outputs, callbacks, tags, metadata, run_name, include_run_info)\u001b[0m\n\u001b[1;32m    310\u001b[0m \u001b[39mexcept\u001b[39;00m \u001b[39mBaseException\u001b[39;00m \u001b[39mas\u001b[39;00m e:\n\u001b[1;32m    311\u001b[0m     run_manager\u001b[39m.\u001b[39mon_chain_error(e)\n\u001b[0;32m--> 312\u001b[0m     \u001b[39mraise\u001b[39;00m e\n\u001b[1;32m    313\u001b[0m run_manager\u001b[39m.\u001b[39mon_chain_end(outputs)\n\u001b[1;32m    314\u001b[0m final_outputs: Dict[\u001b[39mstr\u001b[39m, Any] \u001b[39m=\u001b[39m \u001b[39mself\u001b[39m\u001b[39m.\u001b[39mprep_outputs(\n\u001b[1;32m    315\u001b[0m     inputs, outputs, return_only_outputs\n\u001b[1;32m    316\u001b[0m )\n",
      "File \u001b[0;32m~/Documents/Programming/Projects/cs236/carafe/.venv/lib/python3.11/site-packages/langchain/chains/base.py:306\u001b[0m, in \u001b[0;36mChain.__call__\u001b[0;34m(self, inputs, return_only_outputs, callbacks, tags, metadata, run_name, include_run_info)\u001b[0m\n\u001b[1;32m    299\u001b[0m run_manager \u001b[39m=\u001b[39m callback_manager\u001b[39m.\u001b[39mon_chain_start(\n\u001b[1;32m    300\u001b[0m     dumpd(\u001b[39mself\u001b[39m),\n\u001b[1;32m    301\u001b[0m     inputs,\n\u001b[1;32m    302\u001b[0m     name\u001b[39m=\u001b[39mrun_name,\n\u001b[1;32m    303\u001b[0m )\n\u001b[1;32m    304\u001b[0m \u001b[39mtry\u001b[39;00m:\n\u001b[1;32m    305\u001b[0m     outputs \u001b[39m=\u001b[39m (\n\u001b[0;32m--> 306\u001b[0m         \u001b[39mself\u001b[39;49m\u001b[39m.\u001b[39;49m_call(inputs, run_manager\u001b[39m=\u001b[39;49mrun_manager)\n\u001b[1;32m    307\u001b[0m         \u001b[39mif\u001b[39;00m new_arg_supported\n\u001b[1;32m    308\u001b[0m         \u001b[39melse\u001b[39;00m \u001b[39mself\u001b[39m\u001b[39m.\u001b[39m_call(inputs)\n\u001b[1;32m    309\u001b[0m     )\n\u001b[1;32m    310\u001b[0m \u001b[39mexcept\u001b[39;00m \u001b[39mBaseException\u001b[39;00m \u001b[39mas\u001b[39;00m e:\n\u001b[1;32m    311\u001b[0m     run_manager\u001b[39m.\u001b[39mon_chain_error(e)\n",
      "File \u001b[0;32m~/Documents/Programming/Projects/cs236/carafe/.venv/lib/python3.11/site-packages/langchain/agents/agent.py:1312\u001b[0m, in \u001b[0;36mAgentExecutor._call\u001b[0;34m(self, inputs, run_manager)\u001b[0m\n\u001b[1;32m   1310\u001b[0m \u001b[39m# We now enter the agent loop (until it returns something).\u001b[39;00m\n\u001b[1;32m   1311\u001b[0m \u001b[39mwhile\u001b[39;00m \u001b[39mself\u001b[39m\u001b[39m.\u001b[39m_should_continue(iterations, time_elapsed):\n\u001b[0;32m-> 1312\u001b[0m     next_step_output \u001b[39m=\u001b[39m \u001b[39mself\u001b[39;49m\u001b[39m.\u001b[39;49m_take_next_step(\n\u001b[1;32m   1313\u001b[0m         name_to_tool_map,\n\u001b[1;32m   1314\u001b[0m         color_mapping,\n\u001b[1;32m   1315\u001b[0m         inputs,\n\u001b[1;32m   1316\u001b[0m         intermediate_steps,\n\u001b[1;32m   1317\u001b[0m         run_manager\u001b[39m=\u001b[39;49mrun_manager,\n\u001b[1;32m   1318\u001b[0m     )\n\u001b[1;32m   1319\u001b[0m     \u001b[39mif\u001b[39;00m \u001b[39misinstance\u001b[39m(next_step_output, AgentFinish):\n\u001b[1;32m   1320\u001b[0m         \u001b[39mreturn\u001b[39;00m \u001b[39mself\u001b[39m\u001b[39m.\u001b[39m_return(\n\u001b[1;32m   1321\u001b[0m             next_step_output, intermediate_steps, run_manager\u001b[39m=\u001b[39mrun_manager\n\u001b[1;32m   1322\u001b[0m         )\n",
      "File \u001b[0;32m~/Documents/Programming/Projects/cs236/carafe/.venv/lib/python3.11/site-packages/langchain/agents/agent.py:1038\u001b[0m, in \u001b[0;36mAgentExecutor._take_next_step\u001b[0;34m(self, name_to_tool_map, color_mapping, inputs, intermediate_steps, run_manager)\u001b[0m\n\u001b[1;32m   1029\u001b[0m \u001b[39mdef\u001b[39;00m \u001b[39m_take_next_step\u001b[39m(\n\u001b[1;32m   1030\u001b[0m     \u001b[39mself\u001b[39m,\n\u001b[1;32m   1031\u001b[0m     name_to_tool_map: Dict[\u001b[39mstr\u001b[39m, BaseTool],\n\u001b[0;32m   (...)\u001b[0m\n\u001b[1;32m   1035\u001b[0m     run_manager: Optional[CallbackManagerForChainRun] \u001b[39m=\u001b[39m \u001b[39mNone\u001b[39;00m,\n\u001b[1;32m   1036\u001b[0m ) \u001b[39m-\u001b[39m\u001b[39m>\u001b[39m Union[AgentFinish, List[Tuple[AgentAction, \u001b[39mstr\u001b[39m]]]:\n\u001b[1;32m   1037\u001b[0m     \u001b[39mreturn\u001b[39;00m \u001b[39mself\u001b[39m\u001b[39m.\u001b[39m_consume_next_step(\n\u001b[0;32m-> 1038\u001b[0m         [\n\u001b[1;32m   1039\u001b[0m             a\n\u001b[1;32m   1040\u001b[0m             \u001b[39mfor\u001b[39;49;00m a \u001b[39min\u001b[39;49;00m \u001b[39mself\u001b[39;49m\u001b[39m.\u001b[39;49m_iter_next_step(\n\u001b[1;32m   1041\u001b[0m                 name_to_tool_map,\n\u001b[1;32m   1042\u001b[0m                 color_mapping,\n\u001b[1;32m   1043\u001b[0m                 inputs,\n\u001b[1;32m   1044\u001b[0m                 intermediate_steps,\n\u001b[1;32m   1045\u001b[0m                 run_manager,\n\u001b[1;32m   1046\u001b[0m             )\n\u001b[1;32m   1047\u001b[0m         ]\n\u001b[1;32m   1048\u001b[0m     )\n",
      "File \u001b[0;32m~/Documents/Programming/Projects/cs236/carafe/.venv/lib/python3.11/site-packages/langchain/agents/agent.py:1038\u001b[0m, in \u001b[0;36m<listcomp>\u001b[0;34m(.0)\u001b[0m\n\u001b[1;32m   1029\u001b[0m \u001b[39mdef\u001b[39;00m \u001b[39m_take_next_step\u001b[39m(\n\u001b[1;32m   1030\u001b[0m     \u001b[39mself\u001b[39m,\n\u001b[1;32m   1031\u001b[0m     name_to_tool_map: Dict[\u001b[39mstr\u001b[39m, BaseTool],\n\u001b[0;32m   (...)\u001b[0m\n\u001b[1;32m   1035\u001b[0m     run_manager: Optional[CallbackManagerForChainRun] \u001b[39m=\u001b[39m \u001b[39mNone\u001b[39;00m,\n\u001b[1;32m   1036\u001b[0m ) \u001b[39m-\u001b[39m\u001b[39m>\u001b[39m Union[AgentFinish, List[Tuple[AgentAction, \u001b[39mstr\u001b[39m]]]:\n\u001b[1;32m   1037\u001b[0m     \u001b[39mreturn\u001b[39;00m \u001b[39mself\u001b[39m\u001b[39m.\u001b[39m_consume_next_step(\n\u001b[0;32m-> 1038\u001b[0m         [\n\u001b[1;32m   1039\u001b[0m             a\n\u001b[1;32m   1040\u001b[0m             \u001b[39mfor\u001b[39;49;00m a \u001b[39min\u001b[39;49;00m \u001b[39mself\u001b[39;49m\u001b[39m.\u001b[39;49m_iter_next_step(\n\u001b[1;32m   1041\u001b[0m                 name_to_tool_map,\n\u001b[1;32m   1042\u001b[0m                 color_mapping,\n\u001b[1;32m   1043\u001b[0m                 inputs,\n\u001b[1;32m   1044\u001b[0m                 intermediate_steps,\n\u001b[1;32m   1045\u001b[0m                 run_manager,\n\u001b[1;32m   1046\u001b[0m             )\n\u001b[1;32m   1047\u001b[0m         ]\n\u001b[1;32m   1048\u001b[0m     )\n",
      "File \u001b[0;32m~/Documents/Programming/Projects/cs236/carafe/.venv/lib/python3.11/site-packages/langchain/agents/agent.py:1134\u001b[0m, in \u001b[0;36mAgentExecutor._iter_next_step\u001b[0;34m(self, name_to_tool_map, color_mapping, inputs, intermediate_steps, run_manager)\u001b[0m\n\u001b[1;32m   1132\u001b[0m         tool_run_kwargs[\u001b[39m\"\u001b[39m\u001b[39mllm_prefix\u001b[39m\u001b[39m\"\u001b[39m] \u001b[39m=\u001b[39m \u001b[39m\"\u001b[39m\u001b[39m\"\u001b[39m\n\u001b[1;32m   1133\u001b[0m     \u001b[39m# We then call the tool on the tool input to get an observation\u001b[39;00m\n\u001b[0;32m-> 1134\u001b[0m     observation \u001b[39m=\u001b[39m tool\u001b[39m.\u001b[39;49mrun(\n\u001b[1;32m   1135\u001b[0m         agent_action\u001b[39m.\u001b[39;49mtool_input,\n\u001b[1;32m   1136\u001b[0m         verbose\u001b[39m=\u001b[39;49m\u001b[39mself\u001b[39;49m\u001b[39m.\u001b[39;49mverbose,\n\u001b[1;32m   1137\u001b[0m         color\u001b[39m=\u001b[39;49mcolor,\n\u001b[1;32m   1138\u001b[0m         callbacks\u001b[39m=\u001b[39;49mrun_manager\u001b[39m.\u001b[39;49mget_child() \u001b[39mif\u001b[39;49;00m run_manager \u001b[39melse\u001b[39;49;00m \u001b[39mNone\u001b[39;49;00m,\n\u001b[1;32m   1139\u001b[0m         \u001b[39m*\u001b[39;49m\u001b[39m*\u001b[39;49mtool_run_kwargs,\n\u001b[1;32m   1140\u001b[0m     )\n\u001b[1;32m   1141\u001b[0m \u001b[39melse\u001b[39;00m:\n\u001b[1;32m   1142\u001b[0m     tool_run_kwargs \u001b[39m=\u001b[39m \u001b[39mself\u001b[39m\u001b[39m.\u001b[39magent\u001b[39m.\u001b[39mtool_run_logging_kwargs()\n",
      "File \u001b[0;32m~/Documents/Programming/Projects/cs236/carafe/.venv/lib/python3.11/site-packages/langchain_core/tools.py:365\u001b[0m, in \u001b[0;36mBaseTool.run\u001b[0;34m(self, tool_input, verbose, start_color, color, callbacks, tags, metadata, run_name, **kwargs)\u001b[0m\n\u001b[1;32m    363\u001b[0m \u001b[39mexcept\u001b[39;00m (\u001b[39mException\u001b[39;00m, \u001b[39mKeyboardInterrupt\u001b[39;00m) \u001b[39mas\u001b[39;00m e:\n\u001b[1;32m    364\u001b[0m     run_manager\u001b[39m.\u001b[39mon_tool_error(e)\n\u001b[0;32m--> 365\u001b[0m     \u001b[39mraise\u001b[39;00m e\n\u001b[1;32m    366\u001b[0m \u001b[39melse\u001b[39;00m:\n\u001b[1;32m    367\u001b[0m     run_manager\u001b[39m.\u001b[39mon_tool_end(\n\u001b[1;32m    368\u001b[0m         \u001b[39mstr\u001b[39m(observation), color\u001b[39m=\u001b[39mcolor, name\u001b[39m=\u001b[39m\u001b[39mself\u001b[39m\u001b[39m.\u001b[39mname, \u001b[39m*\u001b[39m\u001b[39m*\u001b[39mkwargs\n\u001b[1;32m    369\u001b[0m     )\n",
      "File \u001b[0;32m~/Documents/Programming/Projects/cs236/carafe/.venv/lib/python3.11/site-packages/langchain_core/tools.py:337\u001b[0m, in \u001b[0;36mBaseTool.run\u001b[0;34m(self, tool_input, verbose, start_color, color, callbacks, tags, metadata, run_name, **kwargs)\u001b[0m\n\u001b[1;32m    334\u001b[0m \u001b[39mtry\u001b[39;00m:\n\u001b[1;32m    335\u001b[0m     tool_args, tool_kwargs \u001b[39m=\u001b[39m \u001b[39mself\u001b[39m\u001b[39m.\u001b[39m_to_args_and_kwargs(parsed_input)\n\u001b[1;32m    336\u001b[0m     observation \u001b[39m=\u001b[39m (\n\u001b[0;32m--> 337\u001b[0m         \u001b[39mself\u001b[39;49m\u001b[39m.\u001b[39;49m_run(\u001b[39m*\u001b[39;49mtool_args, run_manager\u001b[39m=\u001b[39;49mrun_manager, \u001b[39m*\u001b[39;49m\u001b[39m*\u001b[39;49mtool_kwargs)\n\u001b[1;32m    338\u001b[0m         \u001b[39mif\u001b[39;00m new_arg_supported\n\u001b[1;32m    339\u001b[0m         \u001b[39melse\u001b[39;00m \u001b[39mself\u001b[39m\u001b[39m.\u001b[39m_run(\u001b[39m*\u001b[39mtool_args, \u001b[39m*\u001b[39m\u001b[39m*\u001b[39mtool_kwargs)\n\u001b[1;32m    340\u001b[0m     )\n\u001b[1;32m    341\u001b[0m \u001b[39mexcept\u001b[39;00m ToolException \u001b[39mas\u001b[39;00m e:\n\u001b[1;32m    342\u001b[0m     \u001b[39mif\u001b[39;00m \u001b[39mnot\u001b[39;00m \u001b[39mself\u001b[39m\u001b[39m.\u001b[39mhandle_tool_error:\n",
      "File \u001b[0;32m~/Documents/Programming/Projects/cs236/carafe/.venv/lib/python3.11/site-packages/langchain_core/tools.py:510\u001b[0m, in \u001b[0;36mTool._run\u001b[0;34m(self, run_manager, *args, **kwargs)\u001b[0m\n\u001b[1;32m    507\u001b[0m \u001b[39mif\u001b[39;00m \u001b[39mself\u001b[39m\u001b[39m.\u001b[39mfunc:\n\u001b[1;32m    508\u001b[0m     new_argument_supported \u001b[39m=\u001b[39m signature(\u001b[39mself\u001b[39m\u001b[39m.\u001b[39mfunc)\u001b[39m.\u001b[39mparameters\u001b[39m.\u001b[39mget(\u001b[39m\"\u001b[39m\u001b[39mcallbacks\u001b[39m\u001b[39m\"\u001b[39m)\n\u001b[1;32m    509\u001b[0m     \u001b[39mreturn\u001b[39;00m (\n\u001b[0;32m--> 510\u001b[0m         \u001b[39mself\u001b[39;49m\u001b[39m.\u001b[39;49mfunc(\n\u001b[1;32m    511\u001b[0m             \u001b[39m*\u001b[39;49margs,\n\u001b[1;32m    512\u001b[0m             callbacks\u001b[39m=\u001b[39;49mrun_manager\u001b[39m.\u001b[39;49mget_child() \u001b[39mif\u001b[39;49;00m run_manager \u001b[39melse\u001b[39;49;00m \u001b[39mNone\u001b[39;49;00m,\n\u001b[1;32m    513\u001b[0m             \u001b[39m*\u001b[39;49m\u001b[39m*\u001b[39;49mkwargs,\n\u001b[1;32m    514\u001b[0m         )\n\u001b[1;32m    515\u001b[0m         \u001b[39mif\u001b[39;00m new_argument_supported\n\u001b[1;32m    516\u001b[0m         \u001b[39melse\u001b[39;00m \u001b[39mself\u001b[39m\u001b[39m.\u001b[39mfunc(\u001b[39m*\u001b[39margs, \u001b[39m*\u001b[39m\u001b[39m*\u001b[39mkwargs)\n\u001b[1;32m    517\u001b[0m     )\n\u001b[1;32m    518\u001b[0m \u001b[39mraise\u001b[39;00m \u001b[39mNotImplementedError\u001b[39;00m(\u001b[39m\"\u001b[39m\u001b[39mTool does not support sync\u001b[39m\u001b[39m\"\u001b[39m)\n",
      "File \u001b[0;32m~/Documents/Programming/Projects/cs236/carafe/.venv/lib/python3.11/site-packages/langchain/chains/base.py:507\u001b[0m, in \u001b[0;36mChain.run\u001b[0;34m(self, callbacks, tags, metadata, *args, **kwargs)\u001b[0m\n\u001b[1;32m    505\u001b[0m     \u001b[39mif\u001b[39;00m \u001b[39mlen\u001b[39m(args) \u001b[39m!=\u001b[39m \u001b[39m1\u001b[39m:\n\u001b[1;32m    506\u001b[0m         \u001b[39mraise\u001b[39;00m \u001b[39mValueError\u001b[39;00m(\u001b[39m\"\u001b[39m\u001b[39m`run` supports only one positional argument.\u001b[39m\u001b[39m\"\u001b[39m)\n\u001b[0;32m--> 507\u001b[0m     \u001b[39mreturn\u001b[39;00m \u001b[39mself\u001b[39;49m(args[\u001b[39m0\u001b[39;49m], callbacks\u001b[39m=\u001b[39;49mcallbacks, tags\u001b[39m=\u001b[39;49mtags, metadata\u001b[39m=\u001b[39;49mmetadata)[\n\u001b[1;32m    508\u001b[0m         _output_key\n\u001b[1;32m    509\u001b[0m     ]\n\u001b[1;32m    511\u001b[0m \u001b[39mif\u001b[39;00m kwargs \u001b[39mand\u001b[39;00m \u001b[39mnot\u001b[39;00m args:\n\u001b[1;32m    512\u001b[0m     \u001b[39mreturn\u001b[39;00m \u001b[39mself\u001b[39m(kwargs, callbacks\u001b[39m=\u001b[39mcallbacks, tags\u001b[39m=\u001b[39mtags, metadata\u001b[39m=\u001b[39mmetadata)[\n\u001b[1;32m    513\u001b[0m         _output_key\n\u001b[1;32m    514\u001b[0m     ]\n",
      "File \u001b[0;32m~/Documents/Programming/Projects/cs236/carafe/.venv/lib/python3.11/site-packages/langchain/chains/base.py:312\u001b[0m, in \u001b[0;36mChain.__call__\u001b[0;34m(self, inputs, return_only_outputs, callbacks, tags, metadata, run_name, include_run_info)\u001b[0m\n\u001b[1;32m    310\u001b[0m \u001b[39mexcept\u001b[39;00m \u001b[39mBaseException\u001b[39;00m \u001b[39mas\u001b[39;00m e:\n\u001b[1;32m    311\u001b[0m     run_manager\u001b[39m.\u001b[39mon_chain_error(e)\n\u001b[0;32m--> 312\u001b[0m     \u001b[39mraise\u001b[39;00m e\n\u001b[1;32m    313\u001b[0m run_manager\u001b[39m.\u001b[39mon_chain_end(outputs)\n\u001b[1;32m    314\u001b[0m final_outputs: Dict[\u001b[39mstr\u001b[39m, Any] \u001b[39m=\u001b[39m \u001b[39mself\u001b[39m\u001b[39m.\u001b[39mprep_outputs(\n\u001b[1;32m    315\u001b[0m     inputs, outputs, return_only_outputs\n\u001b[1;32m    316\u001b[0m )\n",
      "File \u001b[0;32m~/Documents/Programming/Projects/cs236/carafe/.venv/lib/python3.11/site-packages/langchain/chains/base.py:306\u001b[0m, in \u001b[0;36mChain.__call__\u001b[0;34m(self, inputs, return_only_outputs, callbacks, tags, metadata, run_name, include_run_info)\u001b[0m\n\u001b[1;32m    299\u001b[0m run_manager \u001b[39m=\u001b[39m callback_manager\u001b[39m.\u001b[39mon_chain_start(\n\u001b[1;32m    300\u001b[0m     dumpd(\u001b[39mself\u001b[39m),\n\u001b[1;32m    301\u001b[0m     inputs,\n\u001b[1;32m    302\u001b[0m     name\u001b[39m=\u001b[39mrun_name,\n\u001b[1;32m    303\u001b[0m )\n\u001b[1;32m    304\u001b[0m \u001b[39mtry\u001b[39;00m:\n\u001b[1;32m    305\u001b[0m     outputs \u001b[39m=\u001b[39m (\n\u001b[0;32m--> 306\u001b[0m         \u001b[39mself\u001b[39;49m\u001b[39m.\u001b[39;49m_call(inputs, run_manager\u001b[39m=\u001b[39;49mrun_manager)\n\u001b[1;32m    307\u001b[0m         \u001b[39mif\u001b[39;00m new_arg_supported\n\u001b[1;32m    308\u001b[0m         \u001b[39melse\u001b[39;00m \u001b[39mself\u001b[39m\u001b[39m.\u001b[39m_call(inputs)\n\u001b[1;32m    309\u001b[0m     )\n\u001b[1;32m    310\u001b[0m \u001b[39mexcept\u001b[39;00m \u001b[39mBaseException\u001b[39;00m \u001b[39mas\u001b[39;00m e:\n\u001b[1;32m    311\u001b[0m     run_manager\u001b[39m.\u001b[39mon_chain_error(e)\n",
      "File \u001b[0;32m~/Documents/Programming/Projects/cs236/carafe/.venv/lib/python3.11/site-packages/langchain/chains/llm_math/base.py:158\u001b[0m, in \u001b[0;36mLLMMathChain._call\u001b[0;34m(self, inputs, run_manager)\u001b[0m\n\u001b[1;32m    152\u001b[0m _run_manager\u001b[39m.\u001b[39mon_text(inputs[\u001b[39mself\u001b[39m\u001b[39m.\u001b[39minput_key])\n\u001b[1;32m    153\u001b[0m llm_output \u001b[39m=\u001b[39m \u001b[39mself\u001b[39m\u001b[39m.\u001b[39mllm_chain\u001b[39m.\u001b[39mpredict(\n\u001b[1;32m    154\u001b[0m     question\u001b[39m=\u001b[39minputs[\u001b[39mself\u001b[39m\u001b[39m.\u001b[39minput_key],\n\u001b[1;32m    155\u001b[0m     stop\u001b[39m=\u001b[39m[\u001b[39m\"\u001b[39m\u001b[39m```output\u001b[39m\u001b[39m\"\u001b[39m],\n\u001b[1;32m    156\u001b[0m     callbacks\u001b[39m=\u001b[39m_run_manager\u001b[39m.\u001b[39mget_child(),\n\u001b[1;32m    157\u001b[0m )\n\u001b[0;32m--> 158\u001b[0m \u001b[39mreturn\u001b[39;00m \u001b[39mself\u001b[39;49m\u001b[39m.\u001b[39;49m_process_llm_result(llm_output, _run_manager)\n",
      "File \u001b[0;32m~/Documents/Programming/Projects/cs236/carafe/.venv/lib/python3.11/site-packages/langchain/chains/llm_math/base.py:121\u001b[0m, in \u001b[0;36mLLMMathChain._process_llm_result\u001b[0;34m(self, llm_output, run_manager)\u001b[0m\n\u001b[1;32m    119\u001b[0m     answer \u001b[39m=\u001b[39m \u001b[39m\"\u001b[39m\u001b[39mAnswer: \u001b[39m\u001b[39m\"\u001b[39m \u001b[39m+\u001b[39m llm_output\u001b[39m.\u001b[39msplit(\u001b[39m\"\u001b[39m\u001b[39mAnswer:\u001b[39m\u001b[39m\"\u001b[39m)[\u001b[39m-\u001b[39m\u001b[39m1\u001b[39m]\n\u001b[1;32m    120\u001b[0m \u001b[39melse\u001b[39;00m:\n\u001b[0;32m--> 121\u001b[0m     \u001b[39mraise\u001b[39;00m \u001b[39mValueError\u001b[39;00m(\u001b[39mf\u001b[39m\u001b[39m\"\u001b[39m\u001b[39munknown format from LLM: \u001b[39m\u001b[39m{\u001b[39;00mllm_output\u001b[39m}\u001b[39;00m\u001b[39m\"\u001b[39m)\n\u001b[1;32m    122\u001b[0m \u001b[39mreturn\u001b[39;00m {\u001b[39mself\u001b[39m\u001b[39m.\u001b[39moutput_key: answer}\n",
      "\u001b[0;31mValueError\u001b[0m: unknown format from LLM: This question cannot be answered using the numexpr library."
     ]
    }
   ],
   "source": [
    "run(raw_example3)"
   ]
  },
  {
   "cell_type": "code",
   "execution_count": null,
   "metadata": {},
   "outputs": [],
   "source": []
  }
 ],
 "metadata": {
  "kernelspec": {
   "display_name": ".venv",
   "language": "python",
   "name": "python3"
  },
  "language_info": {
   "codemirror_mode": {
    "name": "ipython",
    "version": 3
   },
   "file_extension": ".py",
   "mimetype": "text/x-python",
   "name": "python",
   "nbconvert_exporter": "python",
   "pygments_lexer": "ipython3",
   "version": "3.11.6"
  }
 },
 "nbformat": 4,
 "nbformat_minor": 2
}
