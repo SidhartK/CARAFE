{
 "cells": [
  {
   "cell_type": "code",
   "execution_count": 25,
   "metadata": {},
   "outputs": [
    {
     "data": {
      "text/plain": [
       "'/Users/sidhartkrishnan/Documents/Programming/Projects/cs236/carafe/src'"
      ]
     },
     "execution_count": 25,
     "metadata": {},
     "output_type": "execute_result"
    }
   ],
   "source": [
    "import json\n",
    "import numpy as np\n",
    "import os\n",
    "os.getcwd()"
   ]
  },
  {
   "cell_type": "code",
   "execution_count": 26,
   "metadata": {},
   "outputs": [],
   "source": [
    "RESULTS_FILE = \"../results/final_results/expmt/output_store.json\"\n",
    "DATASET_FILE = \"../data/verified_data/dataset-test.json\"\n",
    "\n",
    "\n",
    "\n",
    "with open(DATASET_FILE, \"r\") as f:\n",
    "    dataset = json.load(f)\n"
   ]
  },
  {
   "cell_type": "code",
   "execution_count": 48,
   "metadata": {},
   "outputs": [],
   "source": [
    "def prediction(x, context='no-context', direct_ans=False):\n",
    "    if not direct_ans:\n",
    "        return x[context]['pred']['prediction']\n",
    "    return make_num(x[context]['metadata']['llm_output'].split(\"=\")[0])\n",
    "\n",
    "def answer(data):\n",
    "    return data['answer']\n",
    "\n",
    "def make_num(y):\n",
    "    try:\n",
    "        if type(y) in [int, float, np.float64]:\n",
    "            return y\n",
    "        if type(y) == str:\n",
    "            return np.float64(y.split(\" \")[0])\n",
    "    except:\n",
    "        return None\n",
    "\n",
    "def accuracy_metric(y, y_hat, max_error=3):\n",
    "    y = make_num(y)\n",
    "    y_hat = make_num(y_hat)\n",
    "\n",
    "    if y is None or y_hat is None:\n",
    "        return 0\n",
    "    if y < 0 or y_hat < 0:\n",
    "        return 0\n",
    "    if y == 0 and y_hat == 0:\n",
    "        return 1\n",
    "    elif y == 0 or y_hat == 0:\n",
    "        return max(0, 1-np.abs(np.log10(np.abs(y - y_hat))))\n",
    "    # elif y/y_hat == 0:\n",
    "    #     return 0\n",
    "    try:\n",
    "        return max(0, max_error-np.abs(np.log10(y/y_hat)))/max_error\n",
    "    except:\n",
    "        return 0"
   ]
  },
  {
   "cell_type": "code",
   "execution_count": 49,
   "metadata": {},
   "outputs": [
    {
     "name": "stdout",
     "output_type": "stream",
     "text": [
      "0.553329661157046 +/- 0.37337746382382725\n"
     ]
    }
   ],
   "source": [
    "accuracies = [accuracy_metric(data['answer'], prediction(result)) for data, result in zip(dataset, results)]\n",
    "print(f\"{np.mean(accuracies)} +/- {np.std(accuracies)}\")"
   ]
  },
  {
   "cell_type": "code",
   "execution_count": 50,
   "metadata": {},
   "outputs": [
    {
     "name": "stdout",
     "output_type": "stream",
     "text": [
      "0.5325138955648877 \n",
      "0.47553926597531726 \n",
      "0.5303093688482068 \n"
     ]
    }
   ],
   "source": [
    "def evaluate(result_file, context='no-context', direct_ans=False):\n",
    "    with open(result_file, \"r\") as f:\n",
    "        results = json.load(f)\n",
    "    accuracies = []\n",
    "    for data, result in zip(dataset, results):\n",
    "        accuracy = accuracy_metric(data['answer'], prediction(result, context=context, direct_ans=direct_ans))\n",
    "        if data['units'] == 'percents':\n",
    "            accuracy = min(accuracy, accuracy_metric(data['answer']/100, prediction(result, context=context, direct_ans=direct_ans)))\n",
    "        accuracies.append(accuracy)\n",
    "    print(f\"{np.mean(accuracies)} \")\n",
    "    return accuracies\n",
    "\n",
    "evaluate(\"../results/final_results/expmt3/output_store.json\")\n",
    "evaluate(\"../results/final_results/expmt1/output_store.json\")\n",
    "evaluate(\"../results/final_results/expmt0.5/output_store_k=5.json\", direct_ans=True)\n",
    "pass"
   ]
  },
  {
   "cell_type": "code",
   "execution_count": 51,
   "metadata": {},
   "outputs": [
    {
     "name": "stdout",
     "output_type": "stream",
     "text": [
      "0.8511912018790331 \n",
      "0.8640622826621209 \n",
      "0.7486636902277158 \n"
     ]
    }
   ],
   "source": [
    "evaluate(\"../results/final_results/expmt3/output_store.json\", context='regular-context')\n",
    "evaluate(\"../results/final_results/expmt1/output_store.json\", context='regular-context')\n",
    "evaluate(\"../results/final_results/expmt0/output_store_k=5.json\", context='regular-context', direct_ans=True)\n",
    "pass"
   ]
  },
  {
   "cell_type": "code",
   "execution_count": 52,
   "metadata": {},
   "outputs": [
    {
     "name": "stdout",
     "output_type": "stream",
     "text": [
      "# Q0: Under ideal conditions, the bacterium eNSO can reproduce in 10 minutes. eNSO is rodlike with a diameter of 1 micro meters and a length of 5 micro meters. If you start a culture of one eNSO bacterium and they only have onions as its food source, how many minutes elapse before the culture has consumed an amount equal to the onion mass consumed in the US in a year?\n",
      "# R0: This is the main question we want to answer.\n",
      "# Q1: What is the mass of the onion consumed in the US in a year?\n",
      "# R1: We need to know the mass of the onion consumed in the US in a year because that is the amount of mass that the culture needs to consume.\n",
      "# F1: The mass of the onion consumed in the US in a year is 2.3 million metric tons. We must convert this into kg by multiplying by 1e+6.\n",
      "A1=1e+6 * 2.3e+6 # (kg)\n",
      "# Q2: What is the mass of one eNSO bacterium?\n",
      "# R2: We need to know the mass of one eNSO bacterium because that is the amount of mass that one eNSO bacterium consumes when it reproduces.\n",
      "# Q3: What is the volume of one eNSO bacterium?\n",
      "# R3: To compute the mass of one eNSO bacterium, we need to know the volume of one eNSO bacterium because we can multiply the volume of one eNSO bacterium by the density of a bacterium to get the mass of one eNSO bacterium.\n",
      "# F3: The volume of one eNSO bacterium is the volume of a cylinder with a diameter of 1 micro meters and a length of 5 micro meters. We must convert this into m**3 by multiplying by (1e-6 ** 3).\n",
      "A3=np.pi*(1e-6/2)**2*5e-6 # (m**3)\n",
      "# Q4: What is the density of a bacterium?\n",
      "# R4: To compute the mass of one eNSO bacterium, we need to know the density of a bacterium because we can multiply the volume of one eNSO bacterium by the density of a bacterium to get the mass of one eNSO bacterium.\n",
      "# F4: The density of a bacterium is 1.1 g/cm**3. We must convert this into kg/(m**3) by multiplying by 1e+3.\n",
      "A4=1e+3 * 1.1 # (kg/(m**3))\n",
      "# F2: The mass of one eNSO bacterium is the volume of one eNSO bacterium multiplied by the density of a bacterium.\n",
      "A2=A3*A4 # (kg)\n",
      "# Q5: How many eNSO bacterium are needed to consume the mass of the onion consumed in the US in a year?\n",
      "# R5: We need to know how many eNSO bacterium are needed to consume the mass of the onion consumed in the US in a year because that is the number of eNSO bacterium that need to reproduce.\n",
      "# F5: The number of eNSO bacterium needed to consume the mass of the onion consumed in the US in a year is the mass of the onion consumed in the US in a year divided by the mass of one eNSO bacterium.\n",
      "A5=A1/A2 # (dimensionless)\n",
      "# Q6: How many minutes does it take for one eNSO bacterium to reproduce into a certain number of eNSO bacterium?\n",
      "# R6: We need to know how many minutes it takes for one eNSO bacterium to reproduce into a certain number of eNSO bacterium because that is the number of minutes that elapse before the culture has consumed an amount equal to the onion mass consumed in the US in a year.\n",
      "# F6: The number of minutes it takes for one eNSO bacterium to reproduce into a certain number of eNSO bacterium is the logarithm base 2 of the certain number of eNSO bacterium multiplied by the number of minutes it takes for one eNSO bacterium to reproduce.\n",
      "A6=10*np.log2(A5) # (min)\n",
      "# F0: The number of minutes that elapse before the culture has consumed an amount equal to the onion mass consumed in the US in a year is the number of minutes it takes for one eNSO bacterium to reproduce into the number of eNSO bacterium needed to consume the mass of the onion consumed in the US in a year.\n",
      "A0=A6 # (min)\n"
     ]
    }
   ],
   "source": []
  },
  {
   "cell_type": "code",
   "execution_count": null,
   "metadata": {},
   "outputs": [],
   "source": []
  }
 ],
 "metadata": {
  "kernelspec": {
   "display_name": ".venv",
   "language": "python",
   "name": "python3"
  },
  "language_info": {
   "codemirror_mode": {
    "name": "ipython",
    "version": 3
   },
   "file_extension": ".py",
   "mimetype": "text/x-python",
   "name": "python",
   "nbconvert_exporter": "python",
   "pygments_lexer": "ipython3",
   "version": "3.11.6"
  }
 },
 "nbformat": 4,
 "nbformat_minor": 2
}
