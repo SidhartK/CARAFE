{
 "cells": [
  {
   "cell_type": "code",
   "execution_count": 25,
   "metadata": {},
   "outputs": [
    {
     "data": {
      "text/plain": [
       "'/Users/sidhartkrishnan/Documents/Programming/Projects/cs236/carafe/src'"
      ]
     },
     "execution_count": 25,
     "metadata": {},
     "output_type": "execute_result"
    }
   ],
   "source": [
    "import json\n",
    "import numpy as np\n",
    "import os\n",
    "os.getcwd()"
   ]
  },
  {
   "cell_type": "code",
   "execution_count": 26,
   "metadata": {},
   "outputs": [],
   "source": [
    "RESULTS_FILE = \"../results/final_results/expmt/output_store.json\"\n",
    "DATASET_FILE = \"../data/verified_data/dataset-test.json\"\n",
    "\n",
    "\n",
    "\n",
    "with open(DATASET_FILE, \"r\") as f:\n",
    "    dataset = json.load(f)\n"
   ]
  },
  {
   "cell_type": "code",
   "execution_count": 57,
   "metadata": {},
   "outputs": [],
   "source": [
    "def prediction(x, context='no-context', direct_ans=False):\n",
    "    if not direct_ans:\n",
    "        return x[context]['pred']['prediction']\n",
    "    return make_num(x[context]['metadata']['llm_output'].split(\"=\")[0])\n",
    "\n",
    "def answer(data):\n",
    "    return data['answer']\n",
    "\n",
    "def make_num(y):\n",
    "    try:\n",
    "        if type(y) in [int, float, np.float64]:\n",
    "            return y\n",
    "        if type(y) == str:\n",
    "            return np.float64(y.strip('\\n').split(\" \")[0])\n",
    "    except:\n",
    "        return None\n",
    "\n",
    "def accuracy_metric(y, y_hat):\n",
    "    y = make_num(y)\n",
    "    y_hat = make_num(y_hat)\n",
    "\n",
    "    if y is None or y_hat is None:\n",
    "        return 0\n",
    "    if y < 0 or y_hat < 0:\n",
    "        return 0\n",
    "    if y == 0 and y_hat == 0:\n",
    "        return 1\n",
    "    elif y == 0 or y_hat == 0:\n",
    "        return max(0, 1-np.abs(np.log10(np.abs(y - y_hat))))\n",
    "    # elif y/y_hat == 0:\n",
    "    #     return 0\n",
    "    try:\n",
    "        return max(0, 3-np.abs(np.log10(y/y_hat)))/3.0\n",
    "    except:\n",
    "        return 0"
   ]
  },
  {
   "cell_type": "code",
   "execution_count": 62,
   "metadata": {},
   "outputs": [],
   "source": [
    "def evaluate(result_file, pred_extractor):\n",
    "    with open(result_file, \"r\") as f:\n",
    "        results = json.load(f)\n",
    "    accuracies = []\n",
    "    for data, result in zip(dataset, results):\n",
    "        accuracy = accuracy_metric(data['answer'], pred_extractor(result))\n",
    "        # if data['units'] == 'percents':\n",
    "        #     accuracy = min(accuracy, accuracy_metric(data['answer']/100, prediction(result, context=context, direct_ans=direct_ans)))\n",
    "        accuracies.append(accuracy)\n",
    "    print(f\"{np.mean(accuracies)} \")\n",
    "    return accuracies\n",
    "\n",
    "def parsable(result_file, parsable_extractor):\n",
    "    with open(result_file, \"r\") as f:\n",
    "        results = json.load(f)\n",
    "    parsable = [parsable_extractor(result) for result in results]\n",
    "    print(f\"{np.mean(parsable)} \")\n",
    "    return parsable\n",
    "\n",
    "# evaluate(\"../results/final_results/expmt3/output_store.json\")\n",
    "# evaluate(\"../results/final_results/expmt1/output_store.json\")\n",
    "# evaluate(\"../results/final_results/expmt0.5/output_store_k=5.json\", direct_ans=True)\n",
    "pass"
   ]
  },
  {
   "cell_type": "code",
   "execution_count": 64,
   "metadata": {},
   "outputs": [
    {
     "name": "stdout",
     "output_type": "stream",
     "text": [
      "0.8084834923691006 \n",
      "0.7341490883243174 \n",
      "0.3269044846577947 \n",
      "1.0 \n",
      "1.0 \n",
      "0.64 \n"
     ]
    }
   ],
   "source": [
    "\n",
    "extractor = lambda ctxt: (lambda x: x[ctxt][\"metadata\"][\"direct_prediction\"])\n",
    "parse_extractor = lambda ctxt: (lambda x: make_num(x[ctxt][\"metadata\"][\"direct_prediction\"]) is not)\n",
    "\n",
    "\n",
    "_ = evaluate(\"../results/final_results/expmt0.0/output_store_k=5.json\", extractor('regular-context'))\n",
    "_ = evaluate(\"../results/final_results/expmt0.0/output_store_k=5.json\", extractor('distractor-context'))\n",
    "_ = evaluate(\"../results/final_results/expmt0.0/output_store_k=5.json\", extractor('no-context'))\n",
    "\n",
    "_ = parsable(\"../results/final_results/expmt0.0/output_store_k=5.json\", parse_extractor('regular-context'))\n",
    "_ = parsable(\"../results/final_results/expmt0.0/output_store_k=5.json\", parse_extractor('distractor-context'))\n",
    "_ = parsable(\"../results/final_results/expmt0.0/output_store_k=5.json\", parse_extractor('no-context'))\n"
   ]
  },
  {
   "cell_type": "code",
   "execution_count": 65,
   "metadata": {},
   "outputs": [
    {
     "name": "stdout",
     "output_type": "stream",
     "text": [
      "0.2925498588955243 \n",
      "0.23674292400050245 \n",
      "0.13233901236806336 \n",
      "0.64 \n",
      "0.62 \n",
      "0.38 \n"
     ]
    }
   ],
   "source": [
    "\n",
    "extractor = lambda ctxt: (lambda x: x[ctxt][\"metadata\"][\"prediction\"])\n",
    "parse_extractor = lambda ctxt: (lambda x: x[ctxt][\"parsable\"])\n",
    "\n",
    "\n",
    "_ = evaluate(\"../results/final_results/expmt0.0/output_store_k=5.json\", extractor('regular-context'))\n",
    "_ = evaluate(\"../results/final_results/expmt0.0/output_store_k=5.json\", extractor('distractor-context'))\n",
    "_ = evaluate(\"../results/final_results/expmt0.0/output_store_k=5.json\", extractor('no-context'))\n",
    "\n",
    "_ = parsable(\"../results/final_results/expmt0.0/output_store_k=5.json\", parse_extractor('regular-context'))\n",
    "_ = parsable(\"../results/final_results/expmt0.0/output_store_k=5.json\", parse_extractor('distractor-context'))\n",
    "_ = parsable(\"../results/final_results/expmt0.0/output_store_k=5.json\", parse_extractor('no-context'))"
   ]
  },
  {
   "cell_type": "code",
   "execution_count": 66,
   "metadata": {},
   "outputs": [
    {
     "name": "stdout",
     "output_type": "stream",
     "text": [
      "0.9040622826621211 \n",
      "0.8742553815000149 \n",
      "0.4888725993086506 \n",
      "0.98 \n",
      "1.0 \n",
      "0.88 \n"
     ]
    }
   ],
   "source": [
    "\n",
    "extractor = lambda ctxt: (lambda x: x[ctxt][\"pred\"][\"prediction\"])\n",
    "parse_extractor = lambda ctxt: (lambda x: x[ctxt][\"parsable\"])\n",
    "\n",
    "\n",
    "_ = evaluate(\"../results/final_results/expmt1/output_store.json\", extractor('regular-context'))\n",
    "_ = evaluate(\"../results/final_results/expmt1/output_store.json\", extractor('distractor-context'))\n",
    "_ = evaluate(\"../results/final_results/expmt1/output_store.json\", extractor('no-context'))\n",
    "\n",
    "_ = parsable(\"../results/final_results/expmt1/output_store.json\", parse_extractor('regular-context'))\n",
    "_ = parsable(\"../results/final_results/expmt1/output_store.json\", parse_extractor('distractor-context'))\n",
    "_ = parsable(\"../results/final_results/expmt1/output_store.json\", parse_extractor('no-context'))"
   ]
  },
  {
   "cell_type": "code",
   "execution_count": 67,
   "metadata": {},
   "outputs": [
    {
     "name": "stdout",
     "output_type": "stream",
     "text": [
      "0.8841458655346982 \n",
      "0.8263558746237166 \n",
      "0.5780048019874497 \n",
      "1.0 \n",
      "1.0 \n",
      "0.96 \n"
     ]
    }
   ],
   "source": [
    "\n",
    "extractor = lambda ctxt: (lambda x: x[ctxt][\"pred\"][\"prediction\"])\n",
    "parse_extractor = lambda ctxt: (lambda x: x[ctxt][\"parsable\"])\n",
    "\n",
    "\n",
    "_ = evaluate(\"../results/final_results/expmt3.0/output_store.json\", extractor('regular-context'))\n",
    "_ = evaluate(\"../results/final_results/expmt3.0/output_store.json\", extractor('distractor-context'))\n",
    "_ = evaluate(\"../results/final_results/expmt3.0/output_store.json\", extractor('no-context'))\n",
    "\n",
    "_ = parsable(\"../results/final_results/expmt3.0/output_store.json\", parse_extractor('regular-context'))\n",
    "_ = parsable(\"../results/final_results/expmt3.0/output_store.json\", parse_extractor('distractor-context'))\n",
    "_ = parsable(\"../results/final_results/expmt3.0/output_store.json\", parse_extractor('no-context'))"
   ]
  },
  {
   "cell_type": "code",
   "execution_count": 72,
   "metadata": {},
   "outputs": [
    {
     "name": "stdout",
     "output_type": "stream",
     "text": [
      "0.42 \n",
      "0.6 \n",
      "0.74 \n",
      "0.62 \n"
     ]
    }
   ],
   "source": [
    "ks = [2, 5, 10, 20]\n",
    "parsable_percs = [parsable(f\"../results/final_results/expmt0/output_store_k={k}.json\", parse_extractor('regular-context')) for k in ks]"
   ]
  },
  {
   "cell_type": "code",
   "execution_count": 78,
   "metadata": {},
   "outputs": [
    {
     "data": {
      "image/png": "[encoded data removed]",
      "text/plain": [
       "<Figure size 640x480 with 1 Axes>"
      ]
     },
     "metadata": {},
     "output_type": "display_data"
    }
   ],
   "source": [
    "vals = [0.42, 0.6, 0.74, 0.62]\n",
    "# Plot ks vs vals\n",
    "import matplotlib.pyplot as plt\n",
    "plt.plot(ks, vals)\n",
    "plt.xlabel(\"Number of Few-Shot Examples\")\n",
    "plt.xticks(ks)\n",
    "plt.ylabel(\"Validity Percentage\")\n",
    "# plt.title(\"Validity Percentage vs Number of Few-Shot Examples\")\n",
    "plt.savefig(\"../results/final_results/k-shot.png\")"
   ]
  },
  {
   "cell_type": "code",
   "execution_count": 81,
   "metadata": {},
   "outputs": [
    {
     "name": "stdout",
     "output_type": "stream",
     "text": [
      "\n",
      "# Q0: What is the CO2 emissions from the creation of GPT-3, the deep net of unprecedented size that can write Javascript and finish your GoT fan fiction?\n",
      "# R0: This is the main question we want to answer.\n",
      "# Q1: What is the energy consumption of training GPT-3?\n",
      "# R1: To compute the CO2 emissions from the creation of GPT-3, we need to know the energy consumption of training GPT-3 because the CO2 emissions are proportional to the energy consumption.\n",
      "# F1: We do not have any information about the energy consumption of training GPT-3.\n",
      "A1=None # (J)\n",
      "# Q2: What is the CO2 emissions per unit energy?\n",
      "# R2: To compute the CO2 emissions from the creation of GPT-3, we need to know the CO2 emissions per unit energy because the CO2 emissions are proportional to the energy consumption.\n",
      "# F2: We do not have any information about the CO2 emissions per unit energy.\n",
      "A2=None # (kg/J)\n",
      "# F0: The CO2 emissions from the creation of GPT-3 is the energy consumption of training GPT-3 times the CO2 emissions per unit energy.\n",
      "A0=A1*A2 # (kg)\n"
     ]
    }
   ],
   "source": [
    "x = {                \"llm_output\": \"SUMMARY:= We want to compute the CO2 emissions from the creation of GPT-3, a large deep net. However, we do not have any contextual information to help us answer this question.\\n\\nPROGRAM:=\\n# Q0: What is the CO2 emissions from the creation of GPT-3, the deep net of unprecedented size that can write Javascript and finish your GoT fan fiction?\\n# R0: This is the main question we want to answer.\\n# Q1: What is the energy consumption of training GPT-3?\\n# R1: To compute the CO2 emissions from the creation of GPT-3, we need to know the energy consumption of training GPT-3 because the CO2 emissions are proportional to the energy consumption.\\n# F1: We do not have any information about the energy consumption of training GPT-3.\\nA1=None # (J)\\n# Q2: What is the CO2 emissions per unit energy?\\n# R2: To compute the CO2 emissions from the creation of GPT-3, we need to know the CO2 emissions per unit energy because the CO2 emissions are proportional to the energy consumption.\\n# F2: We do not have any information about the CO2 emissions per unit energy.\\nA2=None # (kg/J)\\n# F0: The CO2 emissions from the creation of GPT-3 is the energy consumption of training GPT-3 times the CO2 emissions per unit energy.\\nA0=A1*A2 # (kg)\",\n",
    "}\n",
    "print(x[\"llm_output\"].split(\"PROGRAM:=\")[1])"
   ]
  },
  {
   "cell_type": "code",
   "execution_count": null,
   "metadata": {},
   "outputs": [],
   "source": []
  }
 ],
 "metadata": {
  "kernelspec": {
   "display_name": ".venv",
   "language": "python",
   "name": "python3"
  },
  "language_info": {
   "codemirror_mode": {
    "name": "ipython",
    "version": 3
   },
   "file_extension": ".py",
   "mimetype": "text/x-python",
   "name": "python",
   "nbconvert_exporter": "python",
   "pygments_lexer": "ipython3",
   "version": "3.11.6"
  }
 },
 "nbformat": 4,
 "nbformat_minor": 2
}
